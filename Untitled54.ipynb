{
 "cells": [
  {
   "cell_type": "code",
   "execution_count": 2,
   "metadata": {},
   "outputs": [
    {
     "name": "stdout",
     "output_type": "stream",
     "text": [
      "44\n"
     ]
    }
   ],
   "source": [
    "a=[10,1,5,20,2,6]\n",
    "b=0\n",
    "for i in a:\n",
    "    b+=i\n",
    "print(b)"
   ]
  },
  {
   "cell_type": "code",
   "execution_count": 10,
   "metadata": {},
   "outputs": [
    {
     "name": "stdout",
     "output_type": "stream",
     "text": [
      "[2, 5, 6, 11, 20, 21]\n"
     ]
    }
   ],
   "source": [
    "a=[11,21,5,20,2,6]\n",
    "print(sorted(a))\n",
    "\n",
    "\n",
    "      \n"
   ]
  },
  {
   "cell_type": "code",
   "execution_count": 11,
   "metadata": {},
   "outputs": [
    {
     "name": "stdout",
     "output_type": "stream",
     "text": [
      "[1, 2, 5, 6, 10, 20]\n"
     ]
    }
   ],
   "source": [
    "a = [10, 1, 5, 20, 2, 6]\n",
    "\n",
    "newA = []\n",
    "\n",
    "def isSorted(a):\n",
    "    while(a):\n",
    "        mini = a[0]\n",
    "        for i in a:\n",
    "            if(i < mini):\n",
    "                mini = i\n",
    "        newA.append(mini)\n",
    "        a.remove(mini)\n",
    "        \n",
    "\n",
    "isSorted(a)\n",
    "print(newA)"
   ]
  },
  {
   "cell_type": "code",
   "execution_count": 23,
   "metadata": {},
   "outputs": [],
   "source": [
    "a=[9,5,7,89,4]\n",
    "target = 79\n",
    "def searching(a):\n",
    "    b=False\n",
    "    for i in a:\n",
    "        if(i == target):\n",
    "            b=True\n",
    "       \n",
    "    return b          "
   ]
  },
  {
   "cell_type": "code",
   "execution_count": 24,
   "metadata": {},
   "outputs": [
    {
     "name": "stdout",
     "output_type": "stream",
     "text": [
      "False\n"
     ]
    }
   ],
   "source": [
    "print(searching(a))"
   ]
  },
  {
   "cell_type": "code",
   "execution_count": null,
   "metadata": {},
   "outputs": [],
   "source": []
  }
 ],
 "metadata": {
  "kernelspec": {
   "display_name": "Python 3",
   "language": "python",
   "name": "python3"
  },
  "language_info": {
   "codemirror_mode": {
    "name": "ipython",
    "version": 3
   },
   "file_extension": ".py",
   "mimetype": "text/x-python",
   "name": "python",
   "nbconvert_exporter": "python",
   "pygments_lexer": "ipython3",
   "version": "3.8.3"
  }
 },
 "nbformat": 4,
 "nbformat_minor": 4
}
